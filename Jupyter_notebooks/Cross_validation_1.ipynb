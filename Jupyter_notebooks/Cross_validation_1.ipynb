{
 "cells": [
  {
   "cell_type": "markdown",
   "id": "a858c839",
   "metadata": {},
   "source": [
    "# Cross_validation"
   ]
  },
  {
   "cell_type": "code",
   "execution_count": 1,
   "id": "4e4d4bfe",
   "metadata": {},
   "outputs": [],
   "source": [
    "import numpy as np\n",
    "import pandas as pd"
   ]
  },
  {
   "cell_type": "markdown",
   "id": "380c7d33",
   "metadata": {},
   "source": [
    "Importamos el data frame de su correspondiente csv"
   ]
  },
  {
   "cell_type": "code",
   "execution_count": 15,
   "id": "d6d4fdda",
   "metadata": {},
   "outputs": [],
   "source": [
    "lk = pd.read_csv('iris_1.csv')\n",
    "lk['nombre'] = [i for i in range(lk.shape[0])]"
   ]
  },
  {
   "cell_type": "code",
   "execution_count": 16,
   "id": "cc30e733",
   "metadata": {},
   "outputs": [
    {
     "data": {
      "text/plain": [
       "(100, 4)"
      ]
     },
     "execution_count": 16,
     "metadata": {},
     "output_type": "execute_result"
    }
   ],
   "source": [
    "lk.shape"
   ]
  },
  {
   "cell_type": "code",
   "execution_count": 17,
   "id": "f7e66467",
   "metadata": {},
   "outputs": [
    {
     "data": {
      "text/plain": [
       "Index(['sepal width (cm)', 'petal width (cm)', 'class', 'nombre'], dtype='object')"
      ]
     },
     "execution_count": 17,
     "metadata": {},
     "output_type": "execute_result"
    }
   ],
   "source": [
    "lk.columns"
   ]
  },
  {
   "cell_type": "markdown",
   "id": "6cca46d3",
   "metadata": {},
   "source": [
    "Creamos el test y el train extrayendo de forma aleatoria las filas de lk"
   ]
  },
  {
   "cell_type": "code",
   "execution_count": 18,
   "id": "509b9cb3",
   "metadata": {},
   "outputs": [],
   "source": [
    "lk_train = lk.sample(n=80).copy()"
   ]
  },
  {
   "cell_type": "code",
   "execution_count": 19,
   "id": "bbf2f5d9",
   "metadata": {},
   "outputs": [
    {
     "data": {
      "text/html": [
       "<div>\n",
       "<style scoped>\n",
       "    .dataframe tbody tr th:only-of-type {\n",
       "        vertical-align: middle;\n",
       "    }\n",
       "\n",
       "    .dataframe tbody tr th {\n",
       "        vertical-align: top;\n",
       "    }\n",
       "\n",
       "    .dataframe thead th {\n",
       "        text-align: right;\n",
       "    }\n",
       "</style>\n",
       "<table border=\"1\" class=\"dataframe\">\n",
       "  <thead>\n",
       "    <tr style=\"text-align: right;\">\n",
       "      <th></th>\n",
       "      <th>sepal width (cm)</th>\n",
       "      <th>petal width (cm)</th>\n",
       "      <th>class</th>\n",
       "      <th>nombre</th>\n",
       "    </tr>\n",
       "  </thead>\n",
       "  <tbody>\n",
       "    <tr>\n",
       "      <th>0</th>\n",
       "      <td>3.2</td>\n",
       "      <td>1.4</td>\n",
       "      <td>1</td>\n",
       "      <td>0</td>\n",
       "    </tr>\n",
       "    <tr>\n",
       "      <th>1</th>\n",
       "      <td>3.2</td>\n",
       "      <td>1.5</td>\n",
       "      <td>1</td>\n",
       "      <td>1</td>\n",
       "    </tr>\n",
       "    <tr>\n",
       "      <th>2</th>\n",
       "      <td>3.1</td>\n",
       "      <td>1.5</td>\n",
       "      <td>1</td>\n",
       "      <td>2</td>\n",
       "    </tr>\n",
       "    <tr>\n",
       "      <th>3</th>\n",
       "      <td>2.3</td>\n",
       "      <td>1.3</td>\n",
       "      <td>1</td>\n",
       "      <td>3</td>\n",
       "    </tr>\n",
       "    <tr>\n",
       "      <th>4</th>\n",
       "      <td>2.8</td>\n",
       "      <td>1.5</td>\n",
       "      <td>1</td>\n",
       "      <td>4</td>\n",
       "    </tr>\n",
       "  </tbody>\n",
       "</table>\n",
       "</div>"
      ],
      "text/plain": [
       "   sepal width (cm)  petal width (cm)  class  nombre\n",
       "0               3.2               1.4      1       0\n",
       "1               3.2               1.5      1       1\n",
       "2               3.1               1.5      1       2\n",
       "3               2.3               1.3      1       3\n",
       "4               2.8               1.5      1       4"
      ]
     },
     "execution_count": 19,
     "metadata": {},
     "output_type": "execute_result"
    }
   ],
   "source": [
    "lk.head()"
   ]
  },
  {
   "cell_type": "code",
   "execution_count": 21,
   "id": "799a2075",
   "metadata": {},
   "outputs": [
    {
     "data": {
      "text/html": [
       "<div>\n",
       "<style scoped>\n",
       "    .dataframe tbody tr th:only-of-type {\n",
       "        vertical-align: middle;\n",
       "    }\n",
       "\n",
       "    .dataframe tbody tr th {\n",
       "        vertical-align: top;\n",
       "    }\n",
       "\n",
       "    .dataframe thead th {\n",
       "        text-align: right;\n",
       "    }\n",
       "</style>\n",
       "<table border=\"1\" class=\"dataframe\">\n",
       "  <thead>\n",
       "    <tr style=\"text-align: right;\">\n",
       "      <th></th>\n",
       "      <th>sepal width (cm)</th>\n",
       "      <th>petal width (cm)</th>\n",
       "      <th>class</th>\n",
       "      <th>nombre</th>\n",
       "    </tr>\n",
       "  </thead>\n",
       "  <tbody>\n",
       "    <tr>\n",
       "      <th>86</th>\n",
       "      <td>3.4</td>\n",
       "      <td>2.4</td>\n",
       "      <td>2</td>\n",
       "      <td>86</td>\n",
       "    </tr>\n",
       "    <tr>\n",
       "      <th>94</th>\n",
       "      <td>3.3</td>\n",
       "      <td>2.5</td>\n",
       "      <td>2</td>\n",
       "      <td>94</td>\n",
       "    </tr>\n",
       "    <tr>\n",
       "      <th>31</th>\n",
       "      <td>2.4</td>\n",
       "      <td>1.0</td>\n",
       "      <td>1</td>\n",
       "      <td>31</td>\n",
       "    </tr>\n",
       "    <tr>\n",
       "      <th>37</th>\n",
       "      <td>2.3</td>\n",
       "      <td>1.3</td>\n",
       "      <td>1</td>\n",
       "      <td>37</td>\n",
       "    </tr>\n",
       "    <tr>\n",
       "      <th>92</th>\n",
       "      <td>2.7</td>\n",
       "      <td>1.9</td>\n",
       "      <td>2</td>\n",
       "      <td>92</td>\n",
       "    </tr>\n",
       "  </tbody>\n",
       "</table>\n",
       "</div>"
      ],
      "text/plain": [
       "    sepal width (cm)  petal width (cm)  class  nombre\n",
       "86               3.4               2.4      2      86\n",
       "94               3.3               2.5      2      94\n",
       "31               2.4               1.0      1      31\n",
       "37               2.3               1.3      1      37\n",
       "92               2.7               1.9      2      92"
      ]
     },
     "execution_count": 21,
     "metadata": {},
     "output_type": "execute_result"
    }
   ],
   "source": [
    "lk_train.head()"
   ]
  },
  {
   "cell_type": "code",
   "execution_count": 23,
   "id": "1838b72f",
   "metadata": {},
   "outputs": [],
   "source": [
    "lk_test = lk[~lk['nombre'].isin(lk_train['nombre'])].copy()"
   ]
  },
  {
   "cell_type": "markdown",
   "id": "d12a5bac",
   "metadata": {},
   "source": [
    "Convertimos los datos del dataframe en numpy arrays"
   ]
  },
  {
   "cell_type": "code",
   "execution_count": 31,
   "id": "e2d121db",
   "metadata": {},
   "outputs": [],
   "source": [
    "X = lk_train[['sepal width (cm)', 'petal width (cm)']].to_numpy()\n",
    "Y = lk_train['class'].to_numpy()\n",
    "x = lk_test[['sepal width (cm)', 'petal width (cm)']].to_numpy()\n",
    "y = lk_test['class'].to_numpy()"
   ]
  },
  {
   "cell_type": "code",
   "execution_count": 32,
   "id": "9f4dfccb",
   "metadata": {},
   "outputs": [
    {
     "name": "stdout",
     "output_type": "stream",
     "text": [
      "(80, 2) (80,) (20, 2) (20,)\n"
     ]
    }
   ],
   "source": [
    "print(X.shape, Y.shape,x.shape,y.shape)"
   ]
  },
  {
   "cell_type": "code",
   "execution_count": null,
   "id": "36b72426",
   "metadata": {},
   "outputs": [],
   "source": []
  }
 ],
 "metadata": {
  "kernelspec": {
   "display_name": "Python 3 (ipykernel)",
   "language": "python",
   "name": "python3"
  },
  "language_info": {
   "codemirror_mode": {
    "name": "ipython",
    "version": 3
   },
   "file_extension": ".py",
   "mimetype": "text/x-python",
   "name": "python",
   "nbconvert_exporter": "python",
   "pygments_lexer": "ipython3",
   "version": "3.9.7"
  }
 },
 "nbformat": 4,
 "nbformat_minor": 5
}
