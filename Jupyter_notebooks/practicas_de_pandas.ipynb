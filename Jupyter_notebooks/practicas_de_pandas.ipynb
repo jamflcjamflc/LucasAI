{
 "cells": [
  {
   "cell_type": "markdown",
   "id": "7b9cd5b3",
   "metadata": {},
   "source": [
    "# Prácticas de pandas"
   ]
  },
  {
   "cell_type": "markdown",
   "id": "2cdd0de6",
   "metadata": {},
   "source": [
    "### Importamos pandas y numpy"
   ]
  },
  {
   "cell_type": "code",
   "execution_count": 2,
   "id": "f59f3694",
   "metadata": {},
   "outputs": [],
   "source": [
    "import numpy as np\n",
    "import pandas as pd"
   ]
  },
  {
   "cell_type": "markdown",
   "id": "97c41b3d",
   "metadata": {},
   "source": [
    "### Leer del disco un fichero utilizando ',' como separador"
   ]
  },
  {
   "cell_type": "code",
   "execution_count": 3,
   "id": "d63ad5ca",
   "metadata": {},
   "outputs": [],
   "source": [
    "df = pd.read_csv('iris.csv', sep=',')"
   ]
  },
  {
   "cell_type": "code",
   "execution_count": 9,
   "id": "c24dd4ac",
   "metadata": {},
   "outputs": [
    {
     "name": "stdout",
     "output_type": "stream",
     "text": [
      "Index(['sepal length (cm)', 'sepal width (cm)', 'petal length (cm)',\n",
      "       'petal width (cm)', 'class'],\n",
      "      dtype='object')\n"
     ]
    }
   ],
   "source": [
    "#Extraer el nombre de las columnas del dataframe\n",
    "print(df.columns)"
   ]
  },
  {
   "cell_type": "markdown",
   "id": "858279b8",
   "metadata": {},
   "source": [
    "### Prácticas de filtros"
   ]
  },
  {
   "cell_type": "code",
   "execution_count": 7,
   "id": "529d94bc",
   "metadata": {},
   "outputs": [
    {
     "name": "stdout",
     "output_type": "stream",
     "text": [
      "número de líneas 50\n"
     ]
    }
   ],
   "source": [
    "# Extraer solo las entradas cuya clase sea 0\n",
    "df_0 = df[df['class']==0].copy()\n",
    "print('número de líneas', df_0.shape[0])"
   ]
  },
  {
   "cell_type": "code",
   "execution_count": 18,
   "id": "9e1f3cdf",
   "metadata": {},
   "outputs": [
    {
     "name": "stdout",
     "output_type": "stream",
     "text": [
      "sepal length max = 7.9\n",
      "sepal length min = 4.3\n",
      "sepal length med = 5.843333333333335\n",
      "sepal length standard deviation = 0.8280661279778629\n"
     ]
    }
   ],
   "source": [
    "# Averiguar cuál es el valor máximo y mínimo del sepal length\n",
    "s_l_max = df['sepal length (cm)'].max()\n",
    "print('sepal length max =', s_l_max)\n",
    "s_l_min = df['sepal length (cm)'].min()\n",
    "print('sepal length min =', s_l_min)\n",
    "s_l_med = df['sepal length (cm)'].mean()\n",
    "print('sepal length med =', s_l_med)\n",
    "s_l_des_es = df['sepal length (cm)'].std()\n",
    "print('sepal length standard deviation =', s_l_des_es)"
   ]
  },
  {
   "cell_type": "code",
   "execution_count": 17,
   "id": "fc2e8df6",
   "metadata": {},
   "outputs": [
    {
     "name": "stdout",
     "output_type": "stream",
     "text": [
      "número de líneas 70\n"
     ]
    }
   ],
   "source": [
    "# Extraer solo las entradas cuyo sepal length sea mayor que la media\n",
    "s_l_med = df['sepal length (cm)'].mean()\n",
    "df_med = df[df['sepal length (cm)']>s_l_med].copy()\n",
    "print('número de líneas', df_med.shape[0])\n"
   ]
  },
  {
   "cell_type": "code",
   "execution_count": 22,
   "id": "b5a0c9c2",
   "metadata": {},
   "outputs": [
    {
     "name": "stdout",
     "output_type": "stream",
     "text": [
      "número de líneas 44\n",
      "número de líneas 2.0 44\n"
     ]
    }
   ],
   "source": [
    "#Extraer las entradas cuyo sepal length sea mayor que la media y cuya clase sea 2\n",
    "s_l_med = df['sepal length (cm)'].mean()\n",
    "df_med = df[df['sepal length (cm)']>s_l_med].copy()\n",
    "df_med_2 = df_med[df_med['class']==2].copy()\n",
    "print('número de líneas', df_med_2.shape[0])\n",
    "#Otra forma más rápida de hacerlo\n",
    "df_med_2 = df[(df['class']==2) & (df['sepal length (cm)']>df['sepal length (cm)'].mean())].copy()\n",
    "print('número de líneas 2.0', df_med_2.shape[0])"
   ]
  },
  {
   "cell_type": "code",
   "execution_count": 23,
   "id": "796bde17",
   "metadata": {},
   "outputs": [
    {
     "name": "stdout",
     "output_type": "stream",
     "text": [
      "número de líneas 76\n"
     ]
    }
   ],
   "source": [
    "#Extraer las entradas cuyo sepal length sea mayor que la media o cuya clase sea 2\n",
    "df_med_2 = df[(df['class']==2) | (df['sepal length (cm)']>df['sepal length (cm)'].mean())].copy()\n",
    "print('número de líneas', df_med_2.shape[0])"
   ]
  },
  {
   "cell_type": "markdown",
   "id": "5df6ea0d",
   "metadata": {},
   "source": [
    "### Extraer datos a listas"
   ]
  },
  {
   "cell_type": "code",
   "execution_count": null,
   "id": "cc7d1f21",
   "metadata": {},
   "outputs": [],
   "source": [
    "# Crear una lista con los valores de sepal length para las flores de clase 0\n",
    "df_0 = df[df['class']==0].copy()\n",
    "df_0_list = df_0['sepal length (cm)'].tolist()\n",
    "print('lista de los sepal length de las flores de clase 0 =', df_0_list)"
   ]
  },
  {
   "cell_type": "markdown",
   "id": "316706cc",
   "metadata": {},
   "source": [
    "### Extraer datos a numpy arrays"
   ]
  },
  {
   "cell_type": "code",
   "execution_count": 26,
   "id": "76b8ed06",
   "metadata": {},
   "outputs": [
    {
     "name": "stdout",
     "output_type": "stream",
     "text": [
      "numpy array de los sepal length de las flores de clase 0 = [5.1 4.9 4.7 4.6 5.  5.4 4.6 5.  4.4 4.9 5.4 4.8 4.8 4.3 5.8 5.7 5.4 5.1\n",
      " 5.7 5.1 5.4 5.1 4.6 5.1 4.8 5.  5.  5.2 5.2 4.7 4.8 5.4 5.2 5.5 4.9 5.\n",
      " 5.5 4.9 4.4 5.1 5.  4.5 4.4 5.  5.1 4.8 5.1 4.6 5.3 5. ]\n"
     ]
    }
   ],
   "source": [
    "#Crear un numpy array con los valores de sepal length para las flores de clase 0\n",
    "df_0 = df[df['class']==0].copy()\n",
    "df_0_numpy = df_0['sepal length (cm)'].to_numpy()\n",
    "print('numpy array de los sepal length de las flores de clase 0 =', df_0_numpy)"
   ]
  },
  {
   "cell_type": "code",
   "execution_count": 27,
   "id": "0e6a56e8",
   "metadata": {},
   "outputs": [
    {
     "name": "stdout",
     "output_type": "stream",
     "text": [
      "numpy array de las columnas de atributos = [[5.1 3.5 1.4 0.2]\n",
      " [4.9 3.  1.4 0.2]\n",
      " [4.7 3.2 1.3 0.2]\n",
      " [4.6 3.1 1.5 0.2]\n",
      " [5.  3.6 1.4 0.2]\n",
      " [5.4 3.9 1.7 0.4]\n",
      " [4.6 3.4 1.4 0.3]\n",
      " [5.  3.4 1.5 0.2]\n",
      " [4.4 2.9 1.4 0.2]\n",
      " [4.9 3.1 1.5 0.1]\n",
      " [5.4 3.7 1.5 0.2]\n",
      " [4.8 3.4 1.6 0.2]\n",
      " [4.8 3.  1.4 0.1]\n",
      " [4.3 3.  1.1 0.1]\n",
      " [5.8 4.  1.2 0.2]\n",
      " [5.7 4.4 1.5 0.4]\n",
      " [5.4 3.9 1.3 0.4]\n",
      " [5.1 3.5 1.4 0.3]\n",
      " [5.7 3.8 1.7 0.3]\n",
      " [5.1 3.8 1.5 0.3]\n",
      " [5.4 3.4 1.7 0.2]\n",
      " [5.1 3.7 1.5 0.4]\n",
      " [4.6 3.6 1.  0.2]\n",
      " [5.1 3.3 1.7 0.5]\n",
      " [4.8 3.4 1.9 0.2]\n",
      " [5.  3.  1.6 0.2]\n",
      " [5.  3.4 1.6 0.4]\n",
      " [5.2 3.5 1.5 0.2]\n",
      " [5.2 3.4 1.4 0.2]\n",
      " [4.7 3.2 1.6 0.2]\n",
      " [4.8 3.1 1.6 0.2]\n",
      " [5.4 3.4 1.5 0.4]\n",
      " [5.2 4.1 1.5 0.1]\n",
      " [5.5 4.2 1.4 0.2]\n",
      " [4.9 3.1 1.5 0.2]\n",
      " [5.  3.2 1.2 0.2]\n",
      " [5.5 3.5 1.3 0.2]\n",
      " [4.9 3.6 1.4 0.1]\n",
      " [4.4 3.  1.3 0.2]\n",
      " [5.1 3.4 1.5 0.2]\n",
      " [5.  3.5 1.3 0.3]\n",
      " [4.5 2.3 1.3 0.3]\n",
      " [4.4 3.2 1.3 0.2]\n",
      " [5.  3.5 1.6 0.6]\n",
      " [5.1 3.8 1.9 0.4]\n",
      " [4.8 3.  1.4 0.3]\n",
      " [5.1 3.8 1.6 0.2]\n",
      " [4.6 3.2 1.4 0.2]\n",
      " [5.3 3.7 1.5 0.2]\n",
      " [5.  3.3 1.4 0.2]\n",
      " [7.  3.2 4.7 1.4]\n",
      " [6.4 3.2 4.5 1.5]\n",
      " [6.9 3.1 4.9 1.5]\n",
      " [5.5 2.3 4.  1.3]\n",
      " [6.5 2.8 4.6 1.5]\n",
      " [5.7 2.8 4.5 1.3]\n",
      " [6.3 3.3 4.7 1.6]\n",
      " [4.9 2.4 3.3 1. ]\n",
      " [6.6 2.9 4.6 1.3]\n",
      " [5.2 2.7 3.9 1.4]\n",
      " [5.  2.  3.5 1. ]\n",
      " [5.9 3.  4.2 1.5]\n",
      " [6.  2.2 4.  1. ]\n",
      " [6.1 2.9 4.7 1.4]\n",
      " [5.6 2.9 3.6 1.3]\n",
      " [6.7 3.1 4.4 1.4]\n",
      " [5.6 3.  4.5 1.5]\n",
      " [5.8 2.7 4.1 1. ]\n",
      " [6.2 2.2 4.5 1.5]\n",
      " [5.6 2.5 3.9 1.1]\n",
      " [5.9 3.2 4.8 1.8]\n",
      " [6.1 2.8 4.  1.3]\n",
      " [6.3 2.5 4.9 1.5]\n",
      " [6.1 2.8 4.7 1.2]\n",
      " [6.4 2.9 4.3 1.3]\n",
      " [6.6 3.  4.4 1.4]\n",
      " [6.8 2.8 4.8 1.4]\n",
      " [6.7 3.  5.  1.7]\n",
      " [6.  2.9 4.5 1.5]\n",
      " [5.7 2.6 3.5 1. ]\n",
      " [5.5 2.4 3.8 1.1]\n",
      " [5.5 2.4 3.7 1. ]\n",
      " [5.8 2.7 3.9 1.2]\n",
      " [6.  2.7 5.1 1.6]\n",
      " [5.4 3.  4.5 1.5]\n",
      " [6.  3.4 4.5 1.6]\n",
      " [6.7 3.1 4.7 1.5]\n",
      " [6.3 2.3 4.4 1.3]\n",
      " [5.6 3.  4.1 1.3]\n",
      " [5.5 2.5 4.  1.3]\n",
      " [5.5 2.6 4.4 1.2]\n",
      " [6.1 3.  4.6 1.4]\n",
      " [5.8 2.6 4.  1.2]\n",
      " [5.  2.3 3.3 1. ]\n",
      " [5.6 2.7 4.2 1.3]\n",
      " [5.7 3.  4.2 1.2]\n",
      " [5.7 2.9 4.2 1.3]\n",
      " [6.2 2.9 4.3 1.3]\n",
      " [5.1 2.5 3.  1.1]\n",
      " [5.7 2.8 4.1 1.3]\n",
      " [6.3 3.3 6.  2.5]\n",
      " [5.8 2.7 5.1 1.9]\n",
      " [7.1 3.  5.9 2.1]\n",
      " [6.3 2.9 5.6 1.8]\n",
      " [6.5 3.  5.8 2.2]\n",
      " [7.6 3.  6.6 2.1]\n",
      " [4.9 2.5 4.5 1.7]\n",
      " [7.3 2.9 6.3 1.8]\n",
      " [6.7 2.5 5.8 1.8]\n",
      " [7.2 3.6 6.1 2.5]\n",
      " [6.5 3.2 5.1 2. ]\n",
      " [6.4 2.7 5.3 1.9]\n",
      " [6.8 3.  5.5 2.1]\n",
      " [5.7 2.5 5.  2. ]\n",
      " [5.8 2.8 5.1 2.4]\n",
      " [6.4 3.2 5.3 2.3]\n",
      " [6.5 3.  5.5 1.8]\n",
      " [7.7 3.8 6.7 2.2]\n",
      " [7.7 2.6 6.9 2.3]\n",
      " [6.  2.2 5.  1.5]\n",
      " [6.9 3.2 5.7 2.3]\n",
      " [5.6 2.8 4.9 2. ]\n",
      " [7.7 2.8 6.7 2. ]\n",
      " [6.3 2.7 4.9 1.8]\n",
      " [6.7 3.3 5.7 2.1]\n",
      " [7.2 3.2 6.  1.8]\n",
      " [6.2 2.8 4.8 1.8]\n",
      " [6.1 3.  4.9 1.8]\n",
      " [6.4 2.8 5.6 2.1]\n",
      " [7.2 3.  5.8 1.6]\n",
      " [7.4 2.8 6.1 1.9]\n",
      " [7.9 3.8 6.4 2. ]\n",
      " [6.4 2.8 5.6 2.2]\n",
      " [6.3 2.8 5.1 1.5]\n",
      " [6.1 2.6 5.6 1.4]\n",
      " [7.7 3.  6.1 2.3]\n",
      " [6.3 3.4 5.6 2.4]\n",
      " [6.4 3.1 5.5 1.8]\n",
      " [6.  3.  4.8 1.8]\n",
      " [6.9 3.1 5.4 2.1]\n",
      " [6.7 3.1 5.6 2.4]\n",
      " [6.9 3.1 5.1 2.3]\n",
      " [5.8 2.7 5.1 1.9]\n",
      " [6.8 3.2 5.9 2.3]\n",
      " [6.7 3.3 5.7 2.5]\n",
      " [6.7 3.  5.2 2.3]\n",
      " [6.3 2.5 5.  1.9]\n",
      " [6.5 3.  5.2 2. ]\n",
      " [6.2 3.4 5.4 2.3]\n",
      " [5.9 3.  5.1 1.8]]\n"
     ]
    }
   ],
   "source": [
    "#Crear un numy array con los valores de todas las columnas de características\n",
    "df_0 = df[['sepal length (cm)', 'sepal width (cm)', 'petal length (cm)','petal width (cm)']].copy()\n",
    "df_0_numpy = df_0.to_numpy()\n",
    "print('numpy array de las columnas de atributos =', df_0_numpy)"
   ]
  },
  {
   "cell_type": "code",
   "execution_count": null,
   "id": "57c9fa37",
   "metadata": {},
   "outputs": [],
   "source": []
  }
 ],
 "metadata": {
  "kernelspec": {
   "display_name": "Python 3 (ipykernel)",
   "language": "python",
   "name": "python3"
  },
  "language_info": {
   "codemirror_mode": {
    "name": "ipython",
    "version": 3
   },
   "file_extension": ".py",
   "mimetype": "text/x-python",
   "name": "python",
   "nbconvert_exporter": "python",
   "pygments_lexer": "ipython3",
   "version": "3.9.7"
  }
 },
 "nbformat": 4,
 "nbformat_minor": 5
}
